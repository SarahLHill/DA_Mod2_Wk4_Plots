{
 "cells": [
  {
   "cell_type": "code",
   "execution_count": 1,
   "id": "152d8d96",
   "metadata": {},
   "outputs": [],
   "source": [
    "import pandas as pd\n",
    "import matplotlib.pyplot as plt\n",
    "import seaborn as sns\n",
    "import os\n",
    "from pathlib import Path\n",
    "import math\n",
    "import argparse\n",
    "import numpy as np"
   ]
  },
  {
   "cell_type": "code",
   "execution_count": 2,
   "id": "cdf27e46",
   "metadata": {},
   "outputs": [
    {
     "name": "stdout",
     "output_type": "stream",
     "text": [
      "    region region_code  period  atleast_one_measure  immunization_measure  \\\n",
      "0  Alabama          AL    2013                 0.90                  0.73   \n",
      "1  Alabama          AL    2014                 0.90                  0.84   \n",
      "2  Alabama          AL    2015                  NaN                  0.96   \n",
      "3   Alaska          AK    2013                 1.00                  0.93   \n",
      "4   Alaska          AK    2014                 0.89                  0.92   \n",
      "\n",
      "   reportable_lab_results_measure  syndromic_surveillance_measure  \\\n",
      "0                            0.10                            0.16   \n",
      "1                            0.41                            0.50   \n",
      "2                            0.93                            0.97   \n",
      "3                            0.07                            0.00   \n",
      "4                            0.31                            0.31   \n",
      "\n",
      "   registry_measure  stage_2_hospitals_all_measures  \\\n",
      "0               NaN                            0.00   \n",
      "1               NaN                            0.96   \n",
      "2              0.04                             NaN   \n",
      "3               NaN                            0.00   \n",
      "4               NaN                            1.00   \n",
      "\n",
      "   stage_1_hospitals_all_measures  \n",
      "0                            0.00  \n",
      "1                            0.17  \n",
      "2                             NaN  \n",
      "3                            0.00  \n",
      "4                            0.00  \n"
     ]
    }
   ],
   "source": [
    "# API base URL\n",
    "api_url = \"https://www.healthit.gov/data/open-api\"\n",
    "source_url = \"https://www.healthit.gov/data/open-api?source=hospital-mu-public-health-measures.csv\"\n",
    "data_dir = Path(\"C:/Users/Sarah/SARAH_PROJECT_FOLDER/DA_Mod2_Wk4_Plots\")\n",
    "csv_file = data_dir / \"Health_Reporting.csv\"\n",
    "df = pd.read_csv(csv_file)\n",
    "print(df.head())"
   ]
  },
  {
   "cell_type": "code",
   "execution_count": 3,
   "id": "be35770d",
   "metadata": {},
   "outputs": [
    {
     "name": "stdout",
     "output_type": "stream",
     "text": [
      "    region region_code  period  atleast_one_measure  immunization_measure  \\\n",
      "0  Alabama          AL    2013                 0.90                  0.73   \n",
      "1  Alabama          AL    2014                 0.90                  0.84   \n",
      "2  Alabama          AL    2015                  NaN                  0.96   \n",
      "3   Alaska          AK    2013                 1.00                  0.93   \n",
      "4   Alaska          AK    2014                 0.89                  0.92   \n",
      "\n",
      "   reportable_lab_results_measure  syndromic_surveillance_measure  \\\n",
      "0                            0.10                            0.16   \n",
      "1                            0.41                            0.50   \n",
      "2                            0.93                            0.97   \n",
      "3                            0.07                            0.00   \n",
      "4                            0.31                            0.31   \n",
      "\n",
      "   registry_measure  stage_2_hospitals_all_measures  \\\n",
      "0               NaN                            0.00   \n",
      "1               NaN                            0.96   \n",
      "2              0.04                             NaN   \n",
      "3               NaN                            0.00   \n",
      "4               NaN                            1.00   \n",
      "\n",
      "   stage_1_hospitals_all_measures  \n",
      "0                            0.00  \n",
      "1                            0.17  \n",
      "2                             NaN  \n",
      "3                            0.00  \n",
      "4                            0.00  \n",
      "              state  state_percentage\n",
      "1           Alabama              96.0\n",
      "4            Alaska             100.0\n",
      "7           Arizona              93.0\n",
      "10         Arkansas              91.0\n",
      "13       California              70.0\n",
      "16         Colorado              41.0\n",
      "19      Connecticut              29.0\n",
      "22         Delaware             100.0\n",
      "28          Florida              96.0\n",
      "31          Georgia              67.0\n",
      "34           Hawaii              70.0\n",
      "37            Idaho              78.0\n",
      "40         Illinois              88.0\n",
      "43          Indiana              97.0\n",
      "46             Iowa               6.0\n",
      "49           Kansas              95.0\n",
      "52         Kentucky              95.0\n",
      "55        Louisiana              94.0\n",
      "58            Maine              67.0\n",
      "61         Maryland              89.0\n",
      "64    Massachusetts              75.0\n",
      "67         Michigan             100.0\n",
      "70        Minnesota              16.0\n",
      "73      Mississippi              69.0\n",
      "76         Missouri              89.0\n",
      "79          Montana              73.0\n",
      "82         National              72.0\n",
      "85         Nebraska              80.0\n",
      "88           Nevada              38.0\n",
      "91    New Hampshire              24.0\n",
      "94       New Jersey              93.0\n",
      "97       New Mexico              57.0\n",
      "100        New York              94.0\n",
      "103  North Carolina              13.0\n",
      "106    North Dakota              62.0\n",
      "109            Ohio              82.0\n",
      "112        Oklahoma              29.0\n",
      "115          Oregon             100.0\n",
      "118    Pennsylvania              64.0\n",
      "121    Rhode Island              25.0\n",
      "124  South Carolina              82.0\n",
      "127    South Dakota              58.0\n",
      "130       Tennessee              21.0\n",
      "133           Texas              69.0\n",
      "136            Utah             100.0\n",
      "139         Vermont             100.0\n",
      "142        Virginia              81.0\n",
      "145      Washington              86.0\n",
      "148   West Virginia              67.0\n",
      "151       Wisconsin              84.0\n",
      "154         Wyoming              60.0\n"
     ]
    },
    {
     "data": {
      "application/vnd.plotly.v1+json": {
       "config": {
        "plotlyServerURL": "https://plot.ly"
       },
       "data": [
        {
         "coloraxis": "coloraxis",
         "geo": "geo",
         "hovertemplate": "state_code=%{location}<br>Percentage=%{z}<extra></extra>",
         "locationmode": "USA-states",
         "locations": [
          "AL",
          "AK",
          "AZ",
          "AR",
          "CA",
          "CO",
          "CT",
          "DE",
          "FL",
          "GA",
          "HI",
          "ID",
          "IL",
          "IN",
          "IA",
          "KS",
          "KY",
          "LA",
          "ME",
          "MD",
          "MA",
          "MI",
          "MN",
          "MS",
          "MO",
          "MT",
          null,
          "NE",
          "NV",
          "NH",
          "NJ",
          "NM",
          "NY",
          "NC",
          "ND",
          "OH",
          "OK",
          "OR",
          "PA",
          "RI",
          "SC",
          "SD",
          "TN",
          "TX",
          "UT",
          "VT",
          "VA",
          "WA",
          "WV",
          "WI",
          "WY"
         ],
         "name": "",
         "type": "choropleth",
         "z": {
          "bdata": "AAAAAAAAWEAAAAAAAABZQAAAAAAAQFdAAAAAAADAVkAAAAAAAIBRQAAAAAAAgERA////////PEAAAAAAAABZQAAAAAAAAFhAAAAAAADAUEAAAAAAAIBRQAAAAAAAgFNAAAAAAAAAVkAAAAAAAEBYQAAAAAAAABhAAAAAAADAV0AAAAAAAMBXQAAAAAAAgFdAAAAAAADAUEAAAAAAAEBWQAAAAAAAwFJAAAAAAAAAWUAAAAAAAAAwQAAAAAAAQFFAAAAAAABAVkAAAAAAAEBSQAAAAAAAAFJAAAAAAAAAVEAAAAAAAABDQAAAAAAAADhAAAAAAABAV0D//////39MQAAAAAAAgFdAAAAAAAAAKkAAAAAAAABPQAAAAAAAgFRA////////PEAAAAAAAABZQAAAAAAAAFBAAAAAAAAAOUAAAAAAAIBUQP///////0xAAAAAAAAANUAAAAAAAEBRQAAAAAAAAFlAAAAAAAAAWUAAAAAAAEBUQAAAAAAAgFVAAAAAAADAUEAAAAAAAABVQAAAAAAAAE5A",
          "dtype": "f8"
         }
        }
       ],
       "layout": {
        "coloraxis": {
         "colorbar": {
          "title": {
           "text": "Percentage"
          }
         },
         "colorscale": [
          [
           0,
           "rgb(247,251,255)"
          ],
          [
           0.125,
           "rgb(222,235,247)"
          ],
          [
           0.25,
           "rgb(198,219,239)"
          ],
          [
           0.375,
           "rgb(158,202,225)"
          ],
          [
           0.5,
           "rgb(107,174,214)"
          ],
          [
           0.625,
           "rgb(66,146,198)"
          ],
          [
           0.75,
           "rgb(33,113,181)"
          ],
          [
           0.875,
           "rgb(8,81,156)"
          ],
          [
           1,
           "rgb(8,48,107)"
          ]
         ]
        },
        "geo": {
         "center": {},
         "domain": {
          "x": [
           0,
           1
          ],
          "y": [
           0,
           1
          ]
         },
         "fitbounds": "locations",
         "scope": "usa",
         "visible": false
        },
        "legend": {
         "tracegroupgap": 0
        },
        "template": {
         "data": {
          "bar": [
           {
            "error_x": {
             "color": "#2a3f5f"
            },
            "error_y": {
             "color": "#2a3f5f"
            },
            "marker": {
             "line": {
              "color": "#E5ECF6",
              "width": 0.5
             },
             "pattern": {
              "fillmode": "overlay",
              "size": 10,
              "solidity": 0.2
             }
            },
            "type": "bar"
           }
          ],
          "barpolar": [
           {
            "marker": {
             "line": {
              "color": "#E5ECF6",
              "width": 0.5
             },
             "pattern": {
              "fillmode": "overlay",
              "size": 10,
              "solidity": 0.2
             }
            },
            "type": "barpolar"
           }
          ],
          "carpet": [
           {
            "aaxis": {
             "endlinecolor": "#2a3f5f",
             "gridcolor": "white",
             "linecolor": "white",
             "minorgridcolor": "white",
             "startlinecolor": "#2a3f5f"
            },
            "baxis": {
             "endlinecolor": "#2a3f5f",
             "gridcolor": "white",
             "linecolor": "white",
             "minorgridcolor": "white",
             "startlinecolor": "#2a3f5f"
            },
            "type": "carpet"
           }
          ],
          "choropleth": [
           {
            "colorbar": {
             "outlinewidth": 0,
             "ticks": ""
            },
            "type": "choropleth"
           }
          ],
          "contour": [
           {
            "colorbar": {
             "outlinewidth": 0,
             "ticks": ""
            },
            "colorscale": [
             [
              0,
              "#0d0887"
             ],
             [
              0.1111111111111111,
              "#46039f"
             ],
             [
              0.2222222222222222,
              "#7201a8"
             ],
             [
              0.3333333333333333,
              "#9c179e"
             ],
             [
              0.4444444444444444,
              "#bd3786"
             ],
             [
              0.5555555555555556,
              "#d8576b"
             ],
             [
              0.6666666666666666,
              "#ed7953"
             ],
             [
              0.7777777777777778,
              "#fb9f3a"
             ],
             [
              0.8888888888888888,
              "#fdca26"
             ],
             [
              1,
              "#f0f921"
             ]
            ],
            "type": "contour"
           }
          ],
          "contourcarpet": [
           {
            "colorbar": {
             "outlinewidth": 0,
             "ticks": ""
            },
            "type": "contourcarpet"
           }
          ],
          "heatmap": [
           {
            "colorbar": {
             "outlinewidth": 0,
             "ticks": ""
            },
            "colorscale": [
             [
              0,
              "#0d0887"
             ],
             [
              0.1111111111111111,
              "#46039f"
             ],
             [
              0.2222222222222222,
              "#7201a8"
             ],
             [
              0.3333333333333333,
              "#9c179e"
             ],
             [
              0.4444444444444444,
              "#bd3786"
             ],
             [
              0.5555555555555556,
              "#d8576b"
             ],
             [
              0.6666666666666666,
              "#ed7953"
             ],
             [
              0.7777777777777778,
              "#fb9f3a"
             ],
             [
              0.8888888888888888,
              "#fdca26"
             ],
             [
              1,
              "#f0f921"
             ]
            ],
            "type": "heatmap"
           }
          ],
          "histogram": [
           {
            "marker": {
             "pattern": {
              "fillmode": "overlay",
              "size": 10,
              "solidity": 0.2
             }
            },
            "type": "histogram"
           }
          ],
          "histogram2d": [
           {
            "colorbar": {
             "outlinewidth": 0,
             "ticks": ""
            },
            "colorscale": [
             [
              0,
              "#0d0887"
             ],
             [
              0.1111111111111111,
              "#46039f"
             ],
             [
              0.2222222222222222,
              "#7201a8"
             ],
             [
              0.3333333333333333,
              "#9c179e"
             ],
             [
              0.4444444444444444,
              "#bd3786"
             ],
             [
              0.5555555555555556,
              "#d8576b"
             ],
             [
              0.6666666666666666,
              "#ed7953"
             ],
             [
              0.7777777777777778,
              "#fb9f3a"
             ],
             [
              0.8888888888888888,
              "#fdca26"
             ],
             [
              1,
              "#f0f921"
             ]
            ],
            "type": "histogram2d"
           }
          ],
          "histogram2dcontour": [
           {
            "colorbar": {
             "outlinewidth": 0,
             "ticks": ""
            },
            "colorscale": [
             [
              0,
              "#0d0887"
             ],
             [
              0.1111111111111111,
              "#46039f"
             ],
             [
              0.2222222222222222,
              "#7201a8"
             ],
             [
              0.3333333333333333,
              "#9c179e"
             ],
             [
              0.4444444444444444,
              "#bd3786"
             ],
             [
              0.5555555555555556,
              "#d8576b"
             ],
             [
              0.6666666666666666,
              "#ed7953"
             ],
             [
              0.7777777777777778,
              "#fb9f3a"
             ],
             [
              0.8888888888888888,
              "#fdca26"
             ],
             [
              1,
              "#f0f921"
             ]
            ],
            "type": "histogram2dcontour"
           }
          ],
          "mesh3d": [
           {
            "colorbar": {
             "outlinewidth": 0,
             "ticks": ""
            },
            "type": "mesh3d"
           }
          ],
          "parcoords": [
           {
            "line": {
             "colorbar": {
              "outlinewidth": 0,
              "ticks": ""
             }
            },
            "type": "parcoords"
           }
          ],
          "pie": [
           {
            "automargin": true,
            "type": "pie"
           }
          ],
          "scatter": [
           {
            "fillpattern": {
             "fillmode": "overlay",
             "size": 10,
             "solidity": 0.2
            },
            "type": "scatter"
           }
          ],
          "scatter3d": [
           {
            "line": {
             "colorbar": {
              "outlinewidth": 0,
              "ticks": ""
             }
            },
            "marker": {
             "colorbar": {
              "outlinewidth": 0,
              "ticks": ""
             }
            },
            "type": "scatter3d"
           }
          ],
          "scattercarpet": [
           {
            "marker": {
             "colorbar": {
              "outlinewidth": 0,
              "ticks": ""
             }
            },
            "type": "scattercarpet"
           }
          ],
          "scattergeo": [
           {
            "marker": {
             "colorbar": {
              "outlinewidth": 0,
              "ticks": ""
             }
            },
            "type": "scattergeo"
           }
          ],
          "scattergl": [
           {
            "marker": {
             "colorbar": {
              "outlinewidth": 0,
              "ticks": ""
             }
            },
            "type": "scattergl"
           }
          ],
          "scattermap": [
           {
            "marker": {
             "colorbar": {
              "outlinewidth": 0,
              "ticks": ""
             }
            },
            "type": "scattermap"
           }
          ],
          "scattermapbox": [
           {
            "marker": {
             "colorbar": {
              "outlinewidth": 0,
              "ticks": ""
             }
            },
            "type": "scattermapbox"
           }
          ],
          "scatterpolar": [
           {
            "marker": {
             "colorbar": {
              "outlinewidth": 0,
              "ticks": ""
             }
            },
            "type": "scatterpolar"
           }
          ],
          "scatterpolargl": [
           {
            "marker": {
             "colorbar": {
              "outlinewidth": 0,
              "ticks": ""
             }
            },
            "type": "scatterpolargl"
           }
          ],
          "scatterternary": [
           {
            "marker": {
             "colorbar": {
              "outlinewidth": 0,
              "ticks": ""
             }
            },
            "type": "scatterternary"
           }
          ],
          "surface": [
           {
            "colorbar": {
             "outlinewidth": 0,
             "ticks": ""
            },
            "colorscale": [
             [
              0,
              "#0d0887"
             ],
             [
              0.1111111111111111,
              "#46039f"
             ],
             [
              0.2222222222222222,
              "#7201a8"
             ],
             [
              0.3333333333333333,
              "#9c179e"
             ],
             [
              0.4444444444444444,
              "#bd3786"
             ],
             [
              0.5555555555555556,
              "#d8576b"
             ],
             [
              0.6666666666666666,
              "#ed7953"
             ],
             [
              0.7777777777777778,
              "#fb9f3a"
             ],
             [
              0.8888888888888888,
              "#fdca26"
             ],
             [
              1,
              "#f0f921"
             ]
            ],
            "type": "surface"
           }
          ],
          "table": [
           {
            "cells": {
             "fill": {
              "color": "#EBF0F8"
             },
             "line": {
              "color": "white"
             }
            },
            "header": {
             "fill": {
              "color": "#C8D4E3"
             },
             "line": {
              "color": "white"
             }
            },
            "type": "table"
           }
          ]
         },
         "layout": {
          "annotationdefaults": {
           "arrowcolor": "#2a3f5f",
           "arrowhead": 0,
           "arrowwidth": 1
          },
          "autotypenumbers": "strict",
          "coloraxis": {
           "colorbar": {
            "outlinewidth": 0,
            "ticks": ""
           }
          },
          "colorscale": {
           "diverging": [
            [
             0,
             "#8e0152"
            ],
            [
             0.1,
             "#c51b7d"
            ],
            [
             0.2,
             "#de77ae"
            ],
            [
             0.3,
             "#f1b6da"
            ],
            [
             0.4,
             "#fde0ef"
            ],
            [
             0.5,
             "#f7f7f7"
            ],
            [
             0.6,
             "#e6f5d0"
            ],
            [
             0.7,
             "#b8e186"
            ],
            [
             0.8,
             "#7fbc41"
            ],
            [
             0.9,
             "#4d9221"
            ],
            [
             1,
             "#276419"
            ]
           ],
           "sequential": [
            [
             0,
             "#0d0887"
            ],
            [
             0.1111111111111111,
             "#46039f"
            ],
            [
             0.2222222222222222,
             "#7201a8"
            ],
            [
             0.3333333333333333,
             "#9c179e"
            ],
            [
             0.4444444444444444,
             "#bd3786"
            ],
            [
             0.5555555555555556,
             "#d8576b"
            ],
            [
             0.6666666666666666,
             "#ed7953"
            ],
            [
             0.7777777777777778,
             "#fb9f3a"
            ],
            [
             0.8888888888888888,
             "#fdca26"
            ],
            [
             1,
             "#f0f921"
            ]
           ],
           "sequentialminus": [
            [
             0,
             "#0d0887"
            ],
            [
             0.1111111111111111,
             "#46039f"
            ],
            [
             0.2222222222222222,
             "#7201a8"
            ],
            [
             0.3333333333333333,
             "#9c179e"
            ],
            [
             0.4444444444444444,
             "#bd3786"
            ],
            [
             0.5555555555555556,
             "#d8576b"
            ],
            [
             0.6666666666666666,
             "#ed7953"
            ],
            [
             0.7777777777777778,
             "#fb9f3a"
            ],
            [
             0.8888888888888888,
             "#fdca26"
            ],
            [
             1,
             "#f0f921"
            ]
           ]
          },
          "colorway": [
           "#636efa",
           "#EF553B",
           "#00cc96",
           "#ab63fa",
           "#FFA15A",
           "#19d3f3",
           "#FF6692",
           "#B6E880",
           "#FF97FF",
           "#FECB52"
          ],
          "font": {
           "color": "#2a3f5f"
          },
          "geo": {
           "bgcolor": "white",
           "lakecolor": "white",
           "landcolor": "#E5ECF6",
           "showlakes": true,
           "showland": true,
           "subunitcolor": "white"
          },
          "hoverlabel": {
           "align": "left"
          },
          "hovermode": "closest",
          "mapbox": {
           "style": "light"
          },
          "paper_bgcolor": "white",
          "plot_bgcolor": "#E5ECF6",
          "polar": {
           "angularaxis": {
            "gridcolor": "white",
            "linecolor": "white",
            "ticks": ""
           },
           "bgcolor": "#E5ECF6",
           "radialaxis": {
            "gridcolor": "white",
            "linecolor": "white",
            "ticks": ""
           }
          },
          "scene": {
           "xaxis": {
            "backgroundcolor": "#E5ECF6",
            "gridcolor": "white",
            "gridwidth": 2,
            "linecolor": "white",
            "showbackground": true,
            "ticks": "",
            "zerolinecolor": "white"
           },
           "yaxis": {
            "backgroundcolor": "#E5ECF6",
            "gridcolor": "white",
            "gridwidth": 2,
            "linecolor": "white",
            "showbackground": true,
            "ticks": "",
            "zerolinecolor": "white"
           },
           "zaxis": {
            "backgroundcolor": "#E5ECF6",
            "gridcolor": "white",
            "gridwidth": 2,
            "linecolor": "white",
            "showbackground": true,
            "ticks": "",
            "zerolinecolor": "white"
           }
          },
          "shapedefaults": {
           "line": {
            "color": "#2a3f5f"
           }
          },
          "ternary": {
           "aaxis": {
            "gridcolor": "white",
            "linecolor": "white",
            "ticks": ""
           },
           "baxis": {
            "gridcolor": "white",
            "linecolor": "white",
            "ticks": ""
           },
           "bgcolor": "#E5ECF6",
           "caxis": {
            "gridcolor": "white",
            "linecolor": "white",
            "ticks": ""
           }
          },
          "title": {
           "x": 0.05
          },
          "xaxis": {
           "automargin": true,
           "gridcolor": "white",
           "linecolor": "white",
           "ticks": "",
           "title": {
            "standoff": 15
           },
           "zerolinecolor": "white",
           "zerolinewidth": 2
          },
          "yaxis": {
           "automargin": true,
           "gridcolor": "white",
           "linecolor": "white",
           "ticks": "",
           "title": {
            "standoff": 15
           },
           "zerolinecolor": "white",
           "zerolinewidth": 2
          }
         }
        },
        "title": {
         "text": "State Percentage of Hospitals Reporting to Public Health Agencies",
         "x": 0.5
        }
       }
      }
     },
     "metadata": {},
     "output_type": "display_data"
    }
   ],
   "source": [
    "#Plot #3 State Percentage of Hospitals Reporting to Public Health Agencies\n",
    "# API base URL\n",
    "api_url = \"https://www.healthit.gov/data/open-api\"\n",
    "source_url = \"https://www.healthit.gov/data/open-api?source=hospital-mu-public-health-measures.csv\"\n",
    "data_dir = Path(\"C:/Users/Sarah/SARAH_PROJECT_FOLDER/DA_Mod2_Wk4_Plots\")\n",
    "csv_file = data_dir / \"Health_Reporting_Notebook.csv\"\n",
    "df = pd.read_csv(data_dir / \"health_reporting.csv\")\n",
    "print(df.head())\n",
    "import matplotlib.pyplot as plt\n",
    "import seaborn as sns\n",
    "sns.set(style=\"whitegrid\")\n",
    "df = df.drop(columns=['atleast_one_measure', 'immunization_measure','reportable_lab_results_measure','registry_measure','stage_1_hospitals_all_measures','syndromic_surveillance_measure','reportable_lab_results_measure'])\n",
    "df = df.rename(columns={'region': 'state'})\n",
    "df = df.fillna(0)\n",
    "df = df[df['stage_2_hospitals_all_measures'] != 0]\n",
    "df['state_percentage'] = df['stage_2_hospitals_all_measures'] * 100\n",
    "print(df[['state', 'state_percentage']])\n",
    "import us\n",
    "df['state_code'] = df['state'].apply(lambda x: us.states.lookup(x).abbr if us.states.lookup(x) else None)\n",
    "df['state_percentage'] = df['stage_2_hospitals_all_measures'] * 100\n",
    "#Create a Choropleth map using Plotly\n",
    "import plotly.express as px\n",
    "\n",
    "fig = px.choropleth(df,\n",
    "                    locations='state_code',\n",
    "                    locationmode='USA-states',\n",
    "                    color='state_percentage',\n",
    "                    scope='usa',\n",
    "                    color_continuous_scale='Blues',\n",
    "                    title='State Percentage of Hospitals Reporting to Public Health Agencies in 2014',\n",
    "                    labels={'state_percentage': 'Percentage'}\n",
    "                    )\n",
    "fig.update_geos(fitbounds=\"locations\", visible=False)\n",
    "fig.update_layout(title_text='State Percentage of Hospitals Reporting to Public Health Agencies', title_x=0.5)\n",
    "fig.show()"
   ]
  },
  {
   "cell_type": "code",
   "execution_count": 4,
   "id": "e65584c0",
   "metadata": {},
   "outputs": [
    {
     "name": "stdout",
     "output_type": "stream",
     "text": [
      "Requirement already satisfied: kaleido in c:\\users\\sarah\\appdata\\local\\programs\\python\\python313\\lib\\site-packages (0.2.1)\n",
      "Note: you may need to restart the kernel to use updated packages.\n"
     ]
    }
   ],
   "source": [
    "%pip install kaleido\n",
    "import plotly.io as pio\n",
    "pio.kaleido.scope.default_format = \"png\"\n",
    "pio.kaleido.scope.default_width = 800\n",
    "pio.kaleido.scope.default_height = 600\n",
    "fig.write_image(\"state_hospitals_reporting.png\", format=\"png\", width=800, height=600)"
   ]
  },
  {
   "cell_type": "code",
   "execution_count": 5,
   "id": "48b059a7",
   "metadata": {},
   "outputs": [
    {
     "name": "stdout",
     "output_type": "stream",
     "text": [
      "Index(['region', 'region_code', 'period', 'immunization_measure'], dtype='object')\n",
      "                    state region_code  period  immunization_measure\n",
      "91          New Hampshire          NH    2014                     5\n",
      "103        North Carolina          NC    2014                     6\n",
      "121          Rhode Island          RI    2014                    17\n",
      "19            Connecticut          CT    2014                    18\n",
      "25   District Of Columbia          DC    2014                    20\n"
     ]
    },
    {
     "data": {
      "image/png": "[encoded data removed]",
      "text/plain": [
       "<Figure size 1000x600 with 1 Axes>"
      ]
     },
     "metadata": {},
     "output_type": "display_data"
    }
   ],
   "source": [
    "# Plot #5 Lowest Immunization Measures by State\n",
    "df = pd.read_csv(data_dir / \"health_reporting.csv\")\n",
    "df = df.drop(columns=['atleast_one_measure', 'stage_2_hospitals_all_measures','reportable_lab_results_measure','registry_measure','stage_1_hospitals_all_measures','syndromic_surveillance_measure','reportable_lab_results_measure'])\n",
    "print(df.columns)\n",
    "df = df.rename(columns={'region': 'state'})\n",
    "df = df[df['immunization_measure'] != 0]\n",
    "df = df[df['period'] == 2014]\n",
    "df = df.fillna(0)\n",
    "df = df.sort_values(by='immunization_measure', ascending=True)\n",
    "df = df.head(5)\n",
    "df['immunization_measure'] = df['immunization_measure'] * 100\n",
    "df['immunization_measure'] = df['immunization_measure'].astype(int)\n",
    "print(df)\n",
    "#plot the data on a bar chart\n",
    "import matplotlib.pyplot as plt\n",
    "data = df[['state', 'immunization_measure']]\n",
    "plt.figure(figsize=(10, 6))\n",
    "plt.bar(data['state'], data['immunization_measure'], color='lightblue')\n",
    "plt.yticks(np.arange(0, 101, step=10), [f'{i}%' for i in np.arange(0, 101, step=10)])\n",
    "plt.xlabel('')\n",
    "plt.ylabel('')\n",
    "plt.xticks(rotation=45)\n",
    "plt.title('States Reporting Lowest Percentage of Immunization Measures in 2014')\n",
    "plt.savefig('lowest_immunization_measures.png')\n",
    "\n",
    "plt.show()"
   ]
  },
  {
   "cell_type": "code",
   "execution_count": 6,
   "id": "71d4c835",
   "metadata": {},
   "outputs": [
    {
     "name": "stdout",
     "output_type": "stream",
     "text": [
      "Index(['region', 'region_code', 'period', 'immunization_measure'], dtype='object')\n",
      "         state region_code  period  immunization_measure\n",
      "139    Vermont          VT    2014                   100\n",
      "52    Kentucky          KY    2014                    98\n",
      "4       Alaska          AK    2014                    92\n",
      "28     Florida          FL    2014                    90\n",
      "70   Minnesota          MN    2014                    88\n"
     ]
    },
    {
     "data": {
      "image/png": "[encoded data removed]",
      "text/plain": [
       "<Figure size 1000x600 with 1 Axes>"
      ]
     },
     "metadata": {},
     "output_type": "display_data"
    }
   ],
   "source": [
    "# Plot #6 Highest Immunization Measures by State\n",
    "df = pd.read_csv(data_dir / \"health_reporting.csv\")\n",
    "df = df.drop(columns=['atleast_one_measure', 'stage_2_hospitals_all_measures','reportable_lab_results_measure','registry_measure','stage_1_hospitals_all_measures','syndromic_surveillance_measure','reportable_lab_results_measure'])\n",
    "print(df.columns)\n",
    "df = df.rename(columns={'region': 'state'})\n",
    "df = df[df['immunization_measure'] != 0]\n",
    "df = df[df['period'] == 2014]\n",
    "df = df.fillna(0)\n",
    "#print the 5 highest states with immunization measures\n",
    "df = df.sort_values(by='immunization_measure', ascending=False)\n",
    "df = df.head(5)\n",
    "df['immunization_measure'] = df['immunization_measure'] * 100\n",
    "df['immunization_measure'] = df['immunization_measure'].astype(int)\n",
    "print(df)\n",
    "#Create a bar plot\n",
    "import matplotlib.pyplot as plt\n",
    "data = df[['state', 'immunization_measure']]\n",
    "plt.figure(figsize=(10, 6))\n",
    "plt.bar(data['state'], data['immunization_measure'], color='Blue')\n",
    "plt.yticks(np.arange(0, 101, step=10), [f'{i}%' for i in np.arange(0, 101, step=10)])\n",
    "plt.xlabel('')\n",
    "plt.ylabel('')\n",
    "plt.xticks(rotation=45)\n",
    "plt.title('States Reporting Highest Percentage of Immunization Measures in 2014')\n",
    "plt.savefig('Highest_Immunization_Measures.png')\n",
    "plt.show()"
   ]
  }
 ],
 "metadata": {
  "kernelspec": {
   "display_name": "Python 3",
   "language": "python",
   "name": "python3"
  },
  "language_info": {
   "codemirror_mode": {
    "name": "ipython",
    "version": 3
   },
   "file_extension": ".py",
   "mimetype": "text/x-python",
   "name": "python",
   "nbconvert_exporter": "python",
   "pygments_lexer": "ipython3",
   "version": "3.13.2"
  }
 },
 "nbformat": 4,
 "nbformat_minor": 5
}
